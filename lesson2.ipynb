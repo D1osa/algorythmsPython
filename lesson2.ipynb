{
 "cells": [
  {
   "cell_type": "markdown",
   "id": "aa5c65a2",
   "metadata": {},
   "source": [
    "У вас, с прошлого урока, имеются реализации расчёта среднеквадратичной ошибки и её градиента для линейнй регрессии с коэффициентами при факторах(w) и свободным коэффициентам.\n",
    "\n",
    "class linear_regression:\n",
    "    def _mserror(self, X, y_real):\n",
    "        #рассчёт среднеквадратичной ошибки\n",
    "        y = X.dot(self.w.T)+self.w0\n",
    "        return np.sum((y - y_real)**2) / y_real.shape[0]\n",
    "    def _mserror_grad(self, X, y_real):\n",
    "        #рассчёт градиента ошибки.\n",
    "        #2*delta.T.dot(X)/y_real.shape[0] - градиент по коэффициентам при факторах\n",
    "        #np.sum(2*delta)/y_real.shape[0] - производная(градиент) при нулевом коэффициенте\n",
    "        delta=(X.dot(self.w.T)+self.w0-y_real)\n",
    "        return 2*delta.T.dot(X)/y_real.shape[0], np.sum(2*delta)/y_real.shape[0]\n",
    "В этом задании вы должны модифицировать реализацию рассчёта среднеквадратичной ошибки и рассчёта её производной, так, чтобы с к среднеквадратичной ошибке добавлялась l2 регулярязационная поправка:  \n",
    " \n",
    " а к градиенту- ссответствующее выражение для градиента регулярязационной поправки.\n",
    "\n",
    "На основе этих функций создайте свою регуляризированную полиномиальную регрессию и опробуйте на одном из примеров построения полиномиальной модели из этого урока."
   ]
  },
  {
   "cell_type": "code",
   "execution_count": 301,
   "id": "fa672e8a",
   "metadata": {},
   "outputs": [],
   "source": [
    "import matplotlib\n",
    "import pandas as pd\n",
    "import numpy as np\n",
    "from sklearn.datasets import make_regression\n",
    "import matplotlib.pyplot as plt\n",
    "from sklearn.linear_model import LinearRegression as sklearn_LR\n",
    "%matplotlib inline"
   ]
  },
  {
   "cell_type": "code",
   "execution_count": 302,
   "id": "d6618ce1",
   "metadata": {},
   "outputs": [],
   "source": [
    "n_features = 2\n",
    "n_objects = 1000\n",
    "\n",
    "X = np.random.uniform(-7, 7, (n_objects, n_features))\n",
    "\n",
    "w_true = np.random.normal(size=(1, n_features ))\n",
    "\n",
    "Y = X.dot(w_true.T) + np.random.normal(0, 0.5, size=(n_objects, 1))"
   ]
  },
  {
   "cell_type": "code",
   "execution_count": 303,
   "id": "59aea196",
   "metadata": {},
   "outputs": [],
   "source": [
    "w0 = np.zeros(shape=(1, n_features ))"
   ]
  },
  {
   "cell_type": "code",
   "execution_count": 304,
   "id": "28e3323e",
   "metadata": {},
   "outputs": [],
   "source": [
    "def mserror(X, w, y_real):\n",
    "    y = X.dot(w.T)\n",
    "    return np.sum((y - y_real)**2) / y_real.shape[0]"
   ]
  },
  {
   "cell_type": "code",
   "execution_count": 305,
   "id": "a750fce4",
   "metadata": {},
   "outputs": [
    {
     "data": {
      "text/plain": [
       "(0.27557784186748185, 107.05362368048809)"
      ]
     },
     "execution_count": 305,
     "metadata": {},
     "output_type": "execute_result"
    }
   ],
   "source": [
    "mserror(X, w_true, Y), mserror(X, w_0, Y)"
   ]
  },
  {
   "cell_type": "code",
   "execution_count": 306,
   "id": "56777132",
   "metadata": {},
   "outputs": [],
   "source": [
    "def mserror_grad(X, w, y_real):\n",
    "    return 2*(X.dot(w.T)-y_real).T.dot(X)/y_real.shape[0]"
   ]
  },
  {
   "cell_type": "code",
   "execution_count": 307,
   "id": "96cf02ad",
   "metadata": {},
   "outputs": [
    {
     "data": {
      "text/plain": [
       "array([[-0.08719592,  0.01122846]])"
      ]
     },
     "execution_count": 307,
     "metadata": {},
     "output_type": "execute_result"
    }
   ],
   "source": [
    "mserror_grad(X, w_true, Y)"
   ]
  },
  {
   "cell_type": "code",
   "execution_count": 308,
   "id": "0eb3a862",
   "metadata": {},
   "outputs": [
    {
     "data": {
      "text/plain": [
       "array([[83.20285508, -0.35896337]])"
      ]
     },
     "execution_count": 308,
     "metadata": {},
     "output_type": "execute_result"
    }
   ],
   "source": [
    "mserror_grad(X, w0, Y)"
   ]
  },
  {
   "cell_type": "code",
   "execution_count": 309,
   "id": "cc6b2dc9",
   "metadata": {},
   "outputs": [
    {
     "name": "stdout",
     "output_type": "stream",
     "text": [
      "curent error: 13.481001810668902\n",
      "curent error: 1.9090086855758632\n",
      "curent error: 0.47758085497898395\n",
      "curent error: 0.30047376405104465\n",
      "curent error: 0.27855525644475926\n",
      "curent error: 0.2758419557006639\n",
      "curent error: 0.2755059859007209\n",
      "curent error: 0.2754643736339818\n",
      "curent error: 0.27545921820459146\n",
      "curent error: 0.27545857930267337\n",
      "curent error: 0.2754585001012493\n",
      "curent error: 0.27545849028004293\n",
      "curent error: 0.2754584890618017\n",
      "curent error: 0.27545848891063973\n",
      "curent error: 0.2754584888918772\n",
      "curent error: 0.2754584888895475\n",
      "curent error: 0.27545848888925806\n",
      "curent error: 0.27545848888922214\n",
      "curent error: 0.2754584888892177\n",
      "curent error: 0.27545848888921715\n"
     ]
    }
   ],
   "source": [
    "w=w0\n",
    "\n",
    "w_list = [w.copy().flatten()]\n",
    "\n",
    "errors = []\n",
    "\n",
    "eta = 0.02\n",
    "\n",
    "max_iter = 1e4\n",
    "\n",
    "min_weight_dist = 1e-8\n",
    "\n",
    "weight_dist = np.inf\n",
    "\n",
    "iter_num = 0\n",
    "\n",
    "while weight_dist > min_weight_dist and iter_num < max_iter:\n",
    "    new_w = w -  eta * mserror_grad(X, w, Y)\n",
    "    weight_dist = np.linalg.norm(new_w - w)\n",
    "    \n",
    "    w_list.append(new_w.copy().flatten())\n",
    "    cur_error=mserror(X, new_w, Y)\n",
    "    print('curent error: {0}'.format(cur_error))\n",
    "    errors.append(mserror(X, new_w, Y))\n",
    "    \n",
    "    iter_num += 1\n",
    "    w = new_w\n",
    "    \n",
    "w_list = np.array(w_list)"
   ]
  },
  {
   "cell_type": "code",
   "execution_count": 310,
   "id": "67909354",
   "metadata": {},
   "outputs": [
    {
     "data": {
      "image/png": "[encoded data removed]",
      "text/plain": [
       "<Figure size 936x432 with 1 Axes>"
      ]
     },
     "metadata": {
      "needs_background": "light"
     },
     "output_type": "display_data"
    }
   ],
   "source": [
    "plt.figure(figsize=(13, 6))\n",
    "plt.title('Gradient descent')\n",
    "plt.xlabel(r'$w_1$')\n",
    "plt.ylabel(r'$w_2$')\n",
    "\n",
    "plt.scatter(w_list[:, 0], w_list[:, 1])\n",
    "plt.scatter(w_true[0, 0], w_true[0, 1], c='r')\n",
    "plt.plot(w_list[:, 0], w_list[:, 1])\n",
    "\n",
    "plt.show()"
   ]
  },
  {
   "cell_type": "code",
   "execution_count": 311,
   "id": "9eea6b3d",
   "metadata": {},
   "outputs": [
    {
     "data": {
      "text/plain": [
       "Text(0, 0.5, 'MSE')"
      ]
     },
     "execution_count": 311,
     "metadata": {},
     "output_type": "execute_result"
    },
    {
     "data": {
      "image/png": "[encoded data removed]",
      "text/plain": [
       "<Figure size 432x288 with 1 Axes>"
      ]
     },
     "metadata": {
      "needs_background": "light"
     },
     "output_type": "display_data"
    }
   ],
   "source": [
    "plt.plot(np.arange(len(errors)), errors)\n",
    "plt.title('MSE')\n",
    "plt.xlabel('Iteration number')\n",
    "plt.ylabel('MSE')"
   ]
  },
  {
   "cell_type": "code",
   "execution_count": 312,
   "id": "a3ec6b3f",
   "metadata": {},
   "outputs": [
    {
     "data": {
      "text/plain": [
       "Text(0, 0.5, 'log(MSE)')"
      ]
     },
     "execution_count": 312,
     "metadata": {},
     "output_type": "execute_result"
    },
    {
     "data": {
      "image/png": "[encoded data removed]",
      "text/plain": [
       "<Figure size 432x288 with 1 Axes>"
      ]
     },
     "metadata": {
      "needs_background": "light"
     },
     "output_type": "display_data"
    }
   ],
   "source": [
    "plt.plot(np.arange(len(errors)), np.log(np.array(errors)))\n",
    "plt.title('Log(MSE)')\n",
    "plt.xlabel('Iteration number')\n",
    "plt.ylabel('log(MSE)')"
   ]
  },
  {
   "cell_type": "code",
   "execution_count": 313,
   "id": "52cc0dc6",
   "metadata": {},
   "outputs": [
    {
     "name": "stdout",
     "output_type": "stream",
     "text": [
      "В случае использования нормального уравнения функционал ошибки составляет 0.2755\n"
     ]
    }
   ],
   "source": [
    "def normal_equation(X, y):\n",
    "    return np.linalg.solve((X.T).dot(X), (X.T).dot(y)).T\n",
    "\n",
    "normal_eq_w = normal_equation(X, Y)\n",
    "print('В случае использования нормального уравнения функционал ошибки составляет {0}'.format(\n",
    "    round(mserror(X, normal_eq_w, Y), 4)))"
   ]
  },
  {
   "cell_type": "code",
   "execution_count": 314,
   "id": "d6d0e653",
   "metadata": {},
   "outputs": [],
   "source": [
    "class linear_regression:\n",
    "    def __init__(self, eta = 0.9, max_iter = 1e4, min_weight_dist = 1e-8):\n",
    "        self.eta = eta\n",
    "        self.max_iter = max_iter\n",
    "        self.min_weight_dist = min_weight_dist\n",
    "    def _mserror(self, X, y_real):\n",
    "        #рассчёт среднеквадратичной ошибки\n",
    "        y = X.dot(self.w.T)+self.w0\n",
    "        return np.sum((y - y_real)**2) / y_real.shape[0]\n",
    "    def _mserror_grad(self, X, y_real):\n",
    "        #рассчёт градиента ошибки.\n",
    "        delta=(X.dot(self.w.T)+self.w0-y_real)\n",
    "        2*delta.T.dot(X)/y_real.shape[0]\n",
    "        np.sum(2*delta)/y_real.shape[0]\n",
    "        return 2*delta.T.dot(X)/y_real.shape[0], 2*np.sum(delta)/y_real.shape[0]\n",
    "    def _optimize(self, X, Y):\n",
    "        #оптимизация коэффициентов\n",
    "        iter_num = 0\n",
    "        weight_dist = np.inf\n",
    "        self.w = np.zeros((1, X.shape[1]))\n",
    "        self.w0=0\n",
    "        while weight_dist > self.min_weight_dist and iter_num < self.max_iter:\n",
    "            gr_w, gr_w0=self._mserror_grad(X, Y)\n",
    "            if iter_num==0:\n",
    "                #Чтобы eta адаптировалась к порядку градиента, делим на l2 норму градиента в нуле\n",
    "                eta=self.eta/np.sqrt(np.linalg.norm(gr_w)**2+(gr_w0)**2)\n",
    "            new_w = self.w - eta * gr_w\n",
    "            new_w0= self.w0 - eta * gr_w0\n",
    "            weight_dist = np.sqrt(np.linalg.norm(new_w - self.w)**2+(new_w0 - self.w0)**2)\n",
    "            iter_num += 1\n",
    "            self.w = new_w\n",
    "            self.w0 = new_w0\n",
    "    def fit(self, X, Y):\n",
    "        if Y.ndim==1:\n",
    "            Y=Y[:, np.newaxis]\n",
    "        self._optimize(X, Y)\n",
    "        return self\n",
    "    def predict(self, X):\n",
    "        return (X.dot(self.w.T)+self.w0).flatten()\n",
    "    def test(self, X, Y):\n",
    "        if Y.ndim==1:\n",
    "            Y=Y[:, np.newaxis]\n",
    "        return self._mserror(X, Y)"
   ]
  },
  {
   "cell_type": "code",
   "execution_count": 315,
   "id": "6cca1165",
   "metadata": {
    "scrolled": false
   },
   "outputs": [
    {
     "data": {
      "text/plain": [
       "0.27525640546825625"
      ]
     },
     "execution_count": 315,
     "metadata": {},
     "output_type": "execute_result"
    }
   ],
   "source": [
    "shift=np.random.uniform(0, 100)\n",
    "Y_shift=Y+shift\n",
    "lr=linear_regression()\n",
    "lr.fit(X, Y_shift)\n",
    "lr.test(X, Y_shift)"
   ]
  },
  {
   "cell_type": "code",
   "execution_count": 316,
   "id": "0cccd744",
   "metadata": {},
   "outputs": [
    {
     "data": {
      "text/plain": [
       "(56.56003957377107, 56.574254444881646)"
      ]
     },
     "execution_count": 316,
     "metadata": {},
     "output_type": "execute_result"
    }
   ],
   "source": [
    "shift, lr.w0"
   ]
  },
  {
   "cell_type": "code",
   "execution_count": 317,
   "id": "3c5f15de",
   "metadata": {},
   "outputs": [
    {
     "data": {
      "text/plain": [
       "(array([[-2.56660818,  0.02172245]]), array([[-2.56929217,  0.02208394]]))"
      ]
     },
     "execution_count": 317,
     "metadata": {},
     "output_type": "execute_result"
    }
   ],
   "source": [
    "lr.w, w_true"
   ]
  },
  {
   "cell_type": "code",
   "execution_count": 318,
   "id": "201bd1b6",
   "metadata": {},
   "outputs": [],
   "source": [
    "def f(x):\n",
    "    return (x**2)*(np.sin(0.5*x)**2+1)\n",
    "np.random.seed(16)\n",
    "x_data = np.random.uniform(-50, 50, size=(10,))\n",
    "f_data = [f(i) for i in x_data] + np.random.uniform(-1000, 1000, size=(10,))\n",
    "x_data = np.random.uniform(-50, 50, size=(10,))\n",
    "f_data = [f(i) for i in x_data] + np.random.uniform(-1000, 1000, size=(10,))\n",
    "dots = np.linspace(-50, 50, 100)"
   ]
  },
  {
   "cell_type": "code",
   "execution_count": 319,
   "id": "da4f8315",
   "metadata": {},
   "outputs": [],
   "source": [
    "class polynomial_regression(linear_regression):\n",
    "    def __init__(self, max_power, *args, **kwargs):\n",
    "        self.max_power=max_power\n",
    "        super().__init__(*args, **kwargs)\n",
    "    @staticmethod\n",
    "    def generate_features(x, max_power):\n",
    "        x=x[:, np.newaxis]\n",
    "        return np.concatenate([x**i for i in range(1, max_power+1)], axis=1)\n",
    "    def fit(self, x, y):\n",
    "        super().fit(self.generate_features(x, self.max_power), y)\n",
    "    def predict(self, x):\n",
    "        return super().predict(self.generate_features(x, self.max_power))\n",
    "    def test(self, x, y):\n",
    "        return super().test(self.generate_features(x, self.max_power), y)\n",
    "    \n",
    "class polynomial_regression_sklearn(sklearn_LR):\n",
    "    def __init__(self, max_power, *args, **kwargs):\n",
    "        self.max_power=max_power\n",
    "        super().__init__(*args, **kwargs)\n",
    "    generate_features=staticmethod(polynomial_regression.generate_features)\n",
    "    def fit(self, x, y):\n",
    "        super().fit(self.generate_features(x, self.max_power), y)\n",
    "    def predict(self, x):\n",
    "        return super().predict(self.generate_features(x, self.max_power))\n",
    "    def test(self, x, y):\n",
    "        return np.sum((self.predict(x) - y)**2) / y.shape[0]"
   ]
  },
  {
   "cell_type": "code",
   "execution_count": 320,
   "id": "ba7ad362",
   "metadata": {},
   "outputs": [
    {
     "data": {
      "text/plain": [
       "array([[  1,   1,   1,   1],\n",
       "       [  2,   4,   8,  16],\n",
       "       [  3,   9,  27,  81],\n",
       "       [  4,  16,  64, 256]])"
      ]
     },
     "execution_count": 320,
     "metadata": {},
     "output_type": "execute_result"
    }
   ],
   "source": [
    "polynomial_regression.generate_features(np.array([1, 2, 3, 4]), 4)"
   ]
  },
  {
   "cell_type": "code",
   "execution_count": 321,
   "id": "74f1e8d8",
   "metadata": {},
   "outputs": [
    {
     "data": {
      "text/plain": [
       "array([1710.31635685, 3055.69890296, -252.03200063, -282.45290583,\n",
       "        267.61122767, 2447.36989336,  797.1839177 , -287.80843082,\n",
       "        944.12546908, 1196.66537918])"
      ]
     },
     "execution_count": 321,
     "metadata": {},
     "output_type": "execute_result"
    }
   ],
   "source": [
    "mod1=sklearn_LR()\n",
    "mod1.fit(polynomial_regression.generate_features(x_data, 3), f_data)\n",
    "mod1.predict(polynomial_regression.generate_features(x_data, 3))"
   ]
  },
  {
   "cell_type": "code",
   "execution_count": 322,
   "id": "c0da4f5b",
   "metadata": {},
   "outputs": [
    {
     "data": {
      "text/plain": [
       "array([1710.31635685, 3055.69890296, -252.03200063, -282.45290583,\n",
       "        267.61122767, 2447.36989336,  797.1839177 , -287.80843082,\n",
       "        944.12546908, 1196.66537918])"
      ]
     },
     "execution_count": 322,
     "metadata": {},
     "output_type": "execute_result"
    }
   ],
   "source": [
    "mod2=polynomial_regression_sklearn(3)\n",
    "mod2.fit(x_data, f_data)\n",
    "mod2.predict(x_data)"
   ]
  },
  {
   "cell_type": "code",
   "execution_count": 323,
   "id": "6dc652fa",
   "metadata": {},
   "outputs": [
    {
     "name": "stdout",
     "output_type": "stream",
     "text": [
      "Коэффициенты при факторах(наша модель): [[7.02515899 1.36741048]]\n",
      "Коэффициенты при факторах(sklearn): [8.97929924 1.6010308 ]\n",
      "Нулевые коэффициенты(интерцепты): -0.7747582320779166 -327.4719776212555\n"
     ]
    }
   ],
   "source": [
    "our_mod=polynomial_regression(2)\n",
    "our_mod.fit(x_data, f_data)\n",
    "sk_mod=polynomial_regression_sklearn(2)\n",
    "sk_mod.fit(x_data, f_data)\n",
    "print('Коэффициенты при факторах(наша модель):', our_mod.w)\n",
    "print('Коэффициенты при факторах(sklearn):', sk_mod.coef_)\n",
    "print('Нулевые коэффициенты(интерцепты):',our_mod.w0, sk_mod.intercept_)"
   ]
  },
  {
   "cell_type": "code",
   "execution_count": 324,
   "id": "14fa7ed9",
   "metadata": {},
   "outputs": [
    {
     "data": {
      "text/plain": [
       "array([1698.30556543, 2678.27464822,  106.27758393,   -9.72592152,\n",
       "        339.14765423, 2531.45456477, 1048.00112463,   55.22323094,\n",
       "       1163.13500132, 1356.82424313])"
      ]
     },
     "execution_count": 324,
     "metadata": {},
     "output_type": "execute_result"
    }
   ],
   "source": [
    "our_mod.predict(x_data)"
   ]
  },
  {
   "cell_type": "code",
   "execution_count": 325,
   "id": "b1cfab30",
   "metadata": {},
   "outputs": [
    {
     "data": {
      "text/plain": [
       "array([1633.31204043, 2840.77902255, -197.12048626, -340.06190193,\n",
       "         56.54588609, 2602.94844841,  919.517756  , -258.64474715,\n",
       "       1055.43377212, 1283.96801924])"
      ]
     },
     "execution_count": 325,
     "metadata": {},
     "output_type": "execute_result"
    }
   ],
   "source": [
    "sk_mod.predict(x_data)"
   ]
  },
  {
   "cell_type": "code",
   "execution_count": 326,
   "id": "e9f64b56",
   "metadata": {},
   "outputs": [
    {
     "data": {
      "text/plain": [
       "[<matplotlib.lines.Line2D at 0x7fc2b1479040>]"
      ]
     },
     "execution_count": 326,
     "metadata": {},
     "output_type": "execute_result"
    },
    {
     "data": {
      "image/png": "[encoded data removed]",
      "text/plain": [
       "<Figure size 432x288 with 1 Axes>"
      ]
     },
     "metadata": {
      "needs_background": "light"
     },
     "output_type": "display_data"
    }
   ],
   "source": [
    "#Актуальные данные\n",
    "plt.xlabel('x')\n",
    "plt.ylabel('f(x)')\n",
    "plt.ylim(-5000, 5000)\n",
    "plt.xlim(-10,10)\n",
    "plt.plot(dots, f(dots), color='g')\n",
    "plt.scatter(x_data, f_data)\n",
    "\n",
    "#Наша модель\n",
    "model1 = polynomial_regression(1)\n",
    "model1.fit(x_data, f_data)\n",
    "plt.plot(dots, model1.predict(dots), color='r')\n",
    "\n",
    "#Sklearn\n",
    "model2 = polynomial_regression_sklearn(1)\n",
    "model2.fit(x_data, f_data)\n",
    "plt.plot(dots, model2.predict(dots), 'm--', linewidth=2)"
   ]
  },
  {
   "cell_type": "code",
   "execution_count": 327,
   "id": "96e5b1f1",
   "metadata": {},
   "outputs": [
    {
     "data": {
      "text/plain": [
       "[<matplotlib.lines.Line2D at 0x7fc2b14a6100>]"
      ]
     },
     "execution_count": 327,
     "metadata": {},
     "output_type": "execute_result"
    },
    {
     "data": {
      "image/png": "[encoded data removed]",
      "text/plain": [
       "<Figure size 432x288 with 1 Axes>"
      ]
     },
     "metadata": {
      "needs_background": "light"
     },
     "output_type": "display_data"
    }
   ],
   "source": [
    "#Актуальные данные\n",
    "plt.xlabel('x')\n",
    "plt.ylabel('f(x)')\n",
    "plt.ylim(-5000, 5000)\n",
    "plt.xlim(-10,10)\n",
    "plt.plot(dots, f(dots), color='g')\n",
    "plt.scatter(x_data, f_data)\n",
    "\n",
    "#Наша модель\n",
    "model1 = polynomial_regression(2)\n",
    "model1.fit(x_data, f_data)\n",
    "plt.plot(dots, model1.predict(dots), color='r')\n",
    "\n",
    "#Sklearn\n",
    "model2 = polynomial_regression_sklearn(2)\n",
    "model2.fit(x_data, f_data)\n",
    "plt.plot(dots, model2.predict(dots), 'm--', linewidth=2)"
   ]
  },
  {
   "cell_type": "code",
   "execution_count": 328,
   "id": "0724fbc3",
   "metadata": {},
   "outputs": [
    {
     "name": "stderr",
     "output_type": "stream",
     "text": [
      "<ipython-input-314-6af9112e1171>:29: RuntimeWarning: overflow encountered in double_scalars\n",
      "  weight_dist = np.sqrt(np.linalg.norm(new_w - self.w)**2+(new_w0 - self.w0)**2)\n"
     ]
    },
    {
     "data": {
      "text/plain": [
       "[<matplotlib.lines.Line2D at 0x7fc2b14abfd0>]"
      ]
     },
     "execution_count": 328,
     "metadata": {},
     "output_type": "execute_result"
    },
    {
     "data": {
      "image/png": "[encoded data removed]",
      "text/plain": [
       "<Figure size 432x288 with 1 Axes>"
      ]
     },
     "metadata": {
      "needs_background": "light"
     },
     "output_type": "display_data"
    }
   ],
   "source": [
    "#Актуальные данные\n",
    "plt.xlabel('x')\n",
    "plt.ylabel('f(x)')\n",
    "plt.ylim(-5000, 5000)\n",
    "plt.xlim(-10,10)\n",
    "plt.plot(dots, f(dots), color='g')\n",
    "plt.scatter(x_data, f_data)\n",
    "\n",
    "#Наша модель\n",
    "model1 = polynomial_regression(3)\n",
    "model1.fit(x_data, f_data)\n",
    "plt.plot(dots, model1.predict(dots), color='r')\n",
    "\n",
    "#Sklearn\n",
    "model2 = polynomial_regression_sklearn(3)\n",
    "model2.fit(x_data, f_data)\n",
    "plt.plot(dots, model2.predict(dots), 'm--', linewidth=2)"
   ]
  },
  {
   "cell_type": "code",
   "execution_count": 329,
   "id": "11f2e9e2",
   "metadata": {},
   "outputs": [
    {
     "name": "stderr",
     "output_type": "stream",
     "text": [
      "<ipython-input-314-6af9112e1171>:29: RuntimeWarning: overflow encountered in double_scalars\n",
      "  weight_dist = np.sqrt(np.linalg.norm(new_w - self.w)**2+(new_w0 - self.w0)**2)\n",
      "<ipython-input-314-6af9112e1171>:13: RuntimeWarning: overflow encountered in multiply\n",
      "  2*delta.T.dot(X)/y_real.shape[0]\n",
      "<ipython-input-314-6af9112e1171>:15: RuntimeWarning: overflow encountered in multiply\n",
      "  return 2*delta.T.dot(X)/y_real.shape[0], 2*np.sum(delta)/y_real.shape[0]\n",
      "<ipython-input-314-6af9112e1171>:27: RuntimeWarning: invalid value encountered in subtract\n",
      "  new_w = self.w - eta * gr_w\n"
     ]
    },
    {
     "data": {
      "text/plain": [
       "[<matplotlib.lines.Line2D at 0x7fc2a0150f40>]"
      ]
     },
     "execution_count": 329,
     "metadata": {},
     "output_type": "execute_result"
    },
    {
     "data": {
      "image/png": "[encoded data removed]",
      "text/plain": [
       "<Figure size 432x288 with 1 Axes>"
      ]
     },
     "metadata": {
      "needs_background": "light"
     },
     "output_type": "display_data"
    }
   ],
   "source": [
    "#Актуальные данные\n",
    "plt.xlabel('x')\n",
    "plt.ylabel('f(x)')\n",
    "plt.ylim(-5000, 5000)\n",
    "plt.xlim(-10,10)\n",
    "plt.plot(dots, f(dots), color='g')\n",
    "plt.scatter(x_data, f_data)\n",
    "\n",
    "#Наша модель\n",
    "model1 = polynomial_regression(4, 0.01)\n",
    "model1.fit(x_data, f_data)\n",
    "plt.plot(dots, model1.predict(dots), color='r')\n",
    "\n",
    "#Sklearn\n",
    "model2 = polynomial_regression_sklearn(4)\n",
    "model2.fit(x_data, f_data)\n",
    "plt.plot(dots, model2.predict(dots), 'm--', linewidth=2)"
   ]
  },
  {
   "cell_type": "code",
   "execution_count": 330,
   "id": "fd63949e",
   "metadata": {},
   "outputs": [
    {
     "name": "stderr",
     "output_type": "stream",
     "text": [
      "<ipython-input-314-6af9112e1171>:29: RuntimeWarning: overflow encountered in double_scalars\n",
      "  weight_dist = np.sqrt(np.linalg.norm(new_w - self.w)**2+(new_w0 - self.w0)**2)\n",
      "<ipython-input-314-6af9112e1171>:27: RuntimeWarning: invalid value encountered in subtract\n",
      "  new_w = self.w - eta * gr_w\n"
     ]
    },
    {
     "data": {
      "text/plain": [
       "[<matplotlib.lines.Line2D at 0x7fc291efa2b0>]"
      ]
     },
     "execution_count": 330,
     "metadata": {},
     "output_type": "execute_result"
    },
    {
     "data": {
      "image/png": "[encoded data removed]",
      "text/plain": [
       "<Figure size 432x288 with 1 Axes>"
      ]
     },
     "metadata": {
      "needs_background": "light"
     },
     "output_type": "display_data"
    }
   ],
   "source": [
    "#Актуальные данные\n",
    "plt.xlabel('x')\n",
    "plt.ylabel('f(x)')\n",
    "plt.ylim(-5000, 5000)\n",
    "plt.xlim(-10,10)\n",
    "plt.plot(dots, f(dots), color='g')\n",
    "plt.scatter(x_data, f_data)\n",
    "\n",
    "#Наша модель\n",
    "model1 = polynomial_regression(6, 0.0005, max_iter = 1e5)\n",
    "model1.fit(x_data, f_data)\n",
    "plt.plot(dots, model1.predict(dots), color='r')\n",
    "\n",
    "#Sklearn\n",
    "model2 = polynomial_regression_sklearn(6)\n",
    "model2.fit(x_data, f_data)\n",
    "plt.plot(dots, model2.predict(dots), 'm--', linewidth=2)"
   ]
  },
  {
   "cell_type": "code",
   "execution_count": 331,
   "id": "20a5b612",
   "metadata": {},
   "outputs": [
    {
     "data": {
      "text/plain": [
       "(nan, 115789.67596093503)"
      ]
     },
     "execution_count": 331,
     "metadata": {},
     "output_type": "execute_result"
    }
   ],
   "source": [
    "model1.test(x_data, f_data), model2.test(x_data, f_data)"
   ]
  },
  {
   "cell_type": "code",
   "execution_count": 332,
   "id": "06841416",
   "metadata": {},
   "outputs": [
    {
     "data": {
      "text/plain": [
       "[<matplotlib.lines.Line2D at 0x7fc2501c4790>]"
      ]
     },
     "execution_count": 332,
     "metadata": {},
     "output_type": "execute_result"
    },
    {
     "data": {
      "image/png": "[encoded data removed]",
      "text/plain": [
       "<Figure size 432x288 with 1 Axes>"
      ]
     },
     "metadata": {
      "needs_background": "light"
     },
     "output_type": "display_data"
    }
   ],
   "source": [
    "#Истиные коэффициенты используемые для генерации данных\n",
    "w_true=np.array([[- 13.2,  - 5.3,  - 4.17, 0, 0, 0]])\n",
    "w0_true=0.6\n",
    "\n",
    "#Коэффициенты из Sklearn\n",
    "w_sklearn=model2.coef_[np.newaxis, :]\n",
    "w0_sklearn=model2.intercept_\n",
    "\n",
    "x=polynomial_regression.generate_features(x_data, 6)\n",
    "y=f_data[:, np.newaxis]\n",
    "n_samples=len(f_data)\n",
    "\n",
    "x_dots=np.arange(-0.5, 1.55, 0.05)\n",
    "def _mserror(w, w0):\n",
    "    diff=x.dot(w.T)+w0-y\n",
    "    return np.sum(diff**2)/n_samples\n",
    "\n",
    "mserror_values=np.array([_mserror(w_true+(w_sklearn-w_true)*i, w0_true+(w0_sklearn-w0_true)*i) \n",
    "                         for i in x_dots])\n",
    "#Актуальные данные\n",
    "plt.ylabel('mserror')\n",
    "plt.xticks([0, 1], ['Истиные\\nвеса', 'Веса\\nSklearn'])\n",
    "plt.plot(x_dots, mserror_values)"
   ]
  },
  {
   "cell_type": "code",
   "execution_count": 333,
   "id": "67561003",
   "metadata": {},
   "outputs": [],
   "source": [
    "from scipy.optimize import minimize\n",
    "class polynomial_regression_lbfgs(polynomial_regression):\n",
    "    def __init__(self, max_power):\n",
    "        self.max_power=max_power\n",
    "    def _optimize(self, X, Y):\n",
    "        def assign_w(w):\n",
    "            self.w0=w[0]\n",
    "            self.w=w[1:][np.newaxis, :]\n",
    "        def func(w):\n",
    "            assign_w(w)\n",
    "            #print(self.w0, self.w)\n",
    "            #print('scipy', w)\n",
    "            return super(polynomial_regression, self).test(X, Y)\n",
    "        def jac(w):\n",
    "            assign_w(w)\n",
    "            gr_w, gr_w0=self._mserror_grad(X, Y)\n",
    "            return np.concatenate([[gr_w0], gr_w.flatten()])\n",
    "        w=np.zeros((X.shape[1]+1,))\n",
    "        w=minimize(func, w, jac=jac, method='BFGS').x\n",
    "        assign_w(w)"
   ]
  },
  {
   "cell_type": "code",
   "execution_count": 334,
   "id": "1a202960",
   "metadata": {},
   "outputs": [
    {
     "data": {
      "text/plain": [
       "115789.67596093504"
      ]
     },
     "execution_count": 334,
     "metadata": {},
     "output_type": "execute_result"
    }
   ],
   "source": [
    "model_bfgs=polynomial_regression_lbfgs(6)\n",
    "model_bfgs.fit(x_data, f_data)\n",
    "model_bfgs.test(x_data, f_data)"
   ]
  },
  {
   "cell_type": "code",
   "execution_count": 335,
   "id": "f3fb9931",
   "metadata": {},
   "outputs": [
    {
     "data": {
      "text/plain": [
       "[<matplotlib.lines.Line2D at 0x7fc2705d2f40>]"
      ]
     },
     "execution_count": 335,
     "metadata": {},
     "output_type": "execute_result"
    },
    {
     "data": {
      "image/png": "[encoded data removed]",
      "text/plain": [
       "<Figure size 432x288 with 1 Axes>"
      ]
     },
     "metadata": {
      "needs_background": "light"
     },
     "output_type": "display_data"
    }
   ],
   "source": [
    "#Актуальные данные\n",
    "plt.xlabel('x')\n",
    "plt.ylabel('f(x)')\n",
    "plt.ylim(-5000, 5000)\n",
    "plt.xlim(-10,10)\n",
    "plt.plot(dots, f(dots), color='g')\n",
    "plt.scatter(x_data, f_data)\n",
    "\n",
    "#Наша модель\n",
    "plt.plot(dots, model_bfgs.predict(dots), color='r')"
   ]
  }
 ],
 "metadata": {
  "kernelspec": {
   "display_name": "Python 3",
   "language": "python",
   "name": "python3"
  },
  "language_info": {
   "codemirror_mode": {
    "name": "ipython",
    "version": 3
   },
   "file_extension": ".py",
   "mimetype": "text/x-python",
   "name": "python",
   "nbconvert_exporter": "python",
   "pygments_lexer": "ipython3",
   "version": "3.8.8"
  }
 },
 "nbformat": 4,
 "nbformat_minor": 5
}
